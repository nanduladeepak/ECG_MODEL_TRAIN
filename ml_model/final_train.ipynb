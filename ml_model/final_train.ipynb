{
 "cells": [
  {
   "cell_type": "code",
   "execution_count": 1,
   "id": "f1575b7a",
   "metadata": {},
   "outputs": [],
   "source": [
    "import train_model\n",
    "import importlib\n",
    "importlib.reload(train_model)\n",
    "TrainModel = train_model.TrainModel\n",
    "import seaborn as sns\n",
    "import matplotlib.pyplot as plt\n",
    "import pandas as pd\n",
    "import tensorflow as tf"
   ]
  },
  {
   "cell_type": "code",
   "execution_count": null,
   "id": "c5c61a6a",
   "metadata": {},
   "outputs": [],
   "source": [
    "model_training_r34 = TrainModel(model_type='resnet34' ,epoch = 500, stop_percistance= 50, att_heads=12, filter=True, poles=5, upperCutoff = 45)\n",
    "model_training_r34.train_model()\n",
    "model_training_r34.test_model()\n",
    "sns.relplot(data=pd.DataFrame(model_training_r34.history.history), kind='line', height=4, aspect=4)\n",
    "plt.show()"
   ]
  }
 ],
 "metadata": {
  "kernelspec": {
   "display_name": "scp_env",
   "language": "python",
   "name": "python3"
  },
  "language_info": {
   "codemirror_mode": {
    "name": "ipython",
    "version": 3
   },
   "file_extension": ".py",
   "mimetype": "text/x-python",
   "name": "python",
   "nbconvert_exporter": "python",
   "pygments_lexer": "ipython3",
   "version": "3.10.16"
  }
 },
 "nbformat": 4,
 "nbformat_minor": 5
}
