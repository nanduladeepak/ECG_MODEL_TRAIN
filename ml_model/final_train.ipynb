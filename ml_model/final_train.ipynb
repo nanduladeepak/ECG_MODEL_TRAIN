{
 "cells": [
  {
   "cell_type": "code",
   "execution_count": 1,
   "id": "f1575b7a",
   "metadata": {},
   "outputs": [],
   "source": [
    "import train_model\n",
    "import importlib\n",
    "importlib.reload(train_model)\n",
    "TrainModel = train_model.TrainModel\n",
    "import seaborn as sns\n",
    "import matplotlib.pyplot as plt\n",
    "import pandas as pd\n",
    "import tensorflow as tf"
   ]
  },
  {
   "cell_type": "code",
   "execution_count": null,
   "id": "c5c61a6a",
   "metadata": {},
   "outputs": [
    {
     "name": "stderr",
     "output_type": "stream",
     "text": [
      "100%|██████████| 21837/21837 [00:31<00:00, 699.34it/s]\n",
      "2025-05-25 12:33:34.212998: I metal_plugin/src/device/metal_device.cc:1154] Metal device set to: Apple M1 Max\n",
      "2025-05-25 12:33:34.213028: I metal_plugin/src/device/metal_device.cc:296] systemMemory: 64.00 GB\n",
      "2025-05-25 12:33:34.213031: I metal_plugin/src/device/metal_device.cc:313] maxCacheSize: 24.00 GB\n",
      "2025-05-25 12:33:34.213049: I tensorflow/core/common_runtime/pluggable_device/pluggable_device_factory.cc:305] Could not identify NUMA node of platform GPU ID 0, defaulting to 0. Your kernel may not have been built with NUMA support.\n",
      "2025-05-25 12:33:34.213059: I tensorflow/core/common_runtime/pluggable_device/pluggable_device_factory.cc:271] Created TensorFlow device (/job:localhost/replica:0/task:0/device:GPU:0 with 0 MB memory) -> physical PluggableDevice (device: 0, name: METAL, pci bus id: <undefined>)\n"
     ]
    },
    {
     "name": "stdout",
     "output_type": "stream",
     "text": [
      "Epoch 1/500\n"
     ]
    },
    {
     "name": "stderr",
     "output_type": "stream",
     "text": [
      "2025-05-25 12:33:41.487500: I tensorflow/core/grappler/optimizers/custom_graph_optimizer_registry.cc:117] Plugin optimizer for device_type GPU is enabled.\n"
     ]
    },
    {
     "name": "stdout",
     "output_type": "stream",
     "text": [
      "\u001b[1m  9/410\u001b[0m \u001b[37m━━━━━━━━━━━━━━━━━━━━\u001b[0m \u001b[1m3:32\u001b[0m 530ms/step - cat_acc: 0.0510 - f1_macro: 0.1938 - loss: 2.3801 - precision: 0.3913 - recall: 0.0075"
     ]
    }
   ],
   "source": [
    "model_training_r34 = TrainModel(model_type='resnet34' ,epoch = 500, stop_percistance= 50, att_heads=12, filter=True, poles=5, upperCutoff = 45)\n",
    "model_training_r34.train_model()\n",
    "model_training_r34.test_model()\n",
    "sns.relplot(data=pd.DataFrame(model_training_r34.history.history), kind='line', height=4, aspect=4)\n",
    "plt.show()"
   ]
  }
 ],
 "metadata": {
  "kernelspec": {
   "display_name": "scp_env",
   "language": "python",
   "name": "python3"
  },
  "language_info": {
   "codemirror_mode": {
    "name": "ipython",
    "version": 3
   },
   "file_extension": ".py",
   "mimetype": "text/x-python",
   "name": "python",
   "nbconvert_exporter": "python",
   "pygments_lexer": "ipython3",
   "version": "3.10.16"
  }
 },
 "nbformat": 4,
 "nbformat_minor": 5
}
