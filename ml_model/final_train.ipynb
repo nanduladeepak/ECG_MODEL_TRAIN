{
 "cells": [
  {
   "cell_type": "code",
   "execution_count": 1,
   "id": "f1575b7a",
   "metadata": {},
   "outputs": [],
   "source": [
    "import train_model\n",
    "import importlib\n",
    "importlib.reload(train_model)\n",
    "TrainModel = train_model.TrainModel\n",
    "import seaborn as sns\n",
    "import matplotlib.pyplot as plt\n",
    "import pandas as pd\n",
    "import tensorflow as tf"
   ]
  },
  {
   "cell_type": "code",
   "execution_count": null,
   "id": "8a3062a9",
   "metadata": {},
   "outputs": [
    {
     "name": "stderr",
     "output_type": "stream",
     "text": [
      "100%|██████████| 21837/21837 [00:35<00:00, 607.21it/s]\n",
      "2025-05-19 22:02:48.916410: I metal_plugin/src/device/metal_device.cc:1154] Metal device set to: Apple M1 Max\n",
      "2025-05-19 22:02:48.916436: I metal_plugin/src/device/metal_device.cc:296] systemMemory: 64.00 GB\n",
      "2025-05-19 22:02:48.916440: I metal_plugin/src/device/metal_device.cc:313] maxCacheSize: 24.00 GB\n",
      "2025-05-19 22:02:48.916459: I tensorflow/core/common_runtime/pluggable_device/pluggable_device_factory.cc:305] Could not identify NUMA node of platform GPU ID 0, defaulting to 0. Your kernel may not have been built with NUMA support.\n",
      "2025-05-19 22:02:48.916471: I tensorflow/core/common_runtime/pluggable_device/pluggable_device_factory.cc:271] Created TensorFlow device (/job:localhost/replica:0/task:0/device:GPU:0 with 0 MB memory) -> physical PluggableDevice (device: 0, name: METAL, pci bus id: <undefined>)\n"
     ]
    },
    {
     "name": "stdout",
     "output_type": "stream",
     "text": [
      "Epoch 1/150\n"
     ]
    },
    {
     "name": "stderr",
     "output_type": "stream",
     "text": [
      "2025-05-19 22:02:53.063978: I tensorflow/core/grappler/optimizers/custom_graph_optimizer_registry.cc:117] Plugin optimizer for device_type GPU is enabled.\n"
     ]
    },
    {
     "name": "stdout",
     "output_type": "stream",
     "text": [
      "\u001b[1m392/410\u001b[0m \u001b[32m━━━━━━━━━━━━━━━━━━━\u001b[0m\u001b[37m━\u001b[0m \u001b[1m1s\u001b[0m 84ms/step - cat_acc: 0.3417 - f1_macro: 0.1741 - loss: 2.0307 - precision: 0.5500 - recall: 0.0018"
     ]
    }
   ],
   "source": [
    "model_training_flt_set_15 = TrainModel(epoch = 150, filter=True, poles=5, upperCutoff = 15)\n",
    "model_training_flt_set_15.train_model()\n",
    "model_training_flt_set_15.test_model()\n",
    "sns.relplot(data=pd.DataFrame(model_training_flt_set_15.history.history), kind='line', height=4, aspect=4)\n",
    "plt.show()"
   ]
  },
  {
   "cell_type": "code",
   "execution_count": null,
   "id": "040ed41f",
   "metadata": {},
   "outputs": [],
   "source": [
    "# model_training_flt_set_15 = TrainModel(model_type='resnet34' ,epoch = 150, filter=True, poles=5, upperCutoff = 15)\n",
    "# model_training_flt_set_15.train_model()\n",
    "# model_training_flt_set_15.test_model()\n",
    "# sns.relplot(data=pd.DataFrame(model_training_flt_set_15.history.history), kind='line', height=4, aspect=4)\n",
    "# plt.show()"
   ]
  }
 ],
 "metadata": {
  "kernelspec": {
   "display_name": "scp_env",
   "language": "python",
   "name": "python3"
  },
  "language_info": {
   "codemirror_mode": {
    "name": "ipython",
    "version": 3
   },
   "file_extension": ".py",
   "mimetype": "text/x-python",
   "name": "python",
   "nbconvert_exporter": "python",
   "pygments_lexer": "ipython3",
   "version": "3.10.16"
  }
 },
 "nbformat": 4,
 "nbformat_minor": 5
}
